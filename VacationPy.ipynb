{
 "cells": [
  {
   "cell_type": "markdown",
   "metadata": {},
   "source": [
    "# VacationPy\n",
    "----\n",
    "\n",
    "#### Note\n",
    "* Keep an eye on your API usage. Use https://developers.google.com/maps/reporting/gmp-reporting as reference for how to monitor your usage and billing.\n",
    "\n",
    "* Instructions have been included for each segment. You do not have to follow them exactly, but they are included to help you think through the steps."
   ]
  },
  {
   "cell_type": "code",
   "execution_count": 1,
   "metadata": {},
   "outputs": [],
   "source": [
    "# Dependencies and Setup\n",
    "import matplotlib.pyplot as plt\n",
    "import pandas as pd\n",
    "import numpy as np\n",
    "import requests\n",
    "import gmaps\n",
    "import os\n",
    "import requests\n",
    "import json\n",
    "from pprint import pprint\n",
    "import requests\n",
    "# Import API key\n",
    "from api_keys import g_key"
   ]
  },
  {
   "cell_type": "markdown",
   "metadata": {},
   "source": [
    "### Store Part I results into DataFrame\n",
    "* Load the csv exported in Part I to a DataFrame"
   ]
  },
  {
   "cell_type": "code",
   "execution_count": 2,
   "metadata": {},
   "outputs": [
    {
     "output_type": "execute_result",
     "data": {
      "text/plain": "     Unnamed: 0             City  Latitude  Longtitude  Max Temp  Humidity  \\\n0             0           Envira   -7.3000    -70.2167     78.26        66   \n1             1       Wollongong  -34.4333    150.8833     59.79        58   \n2             2           Olinda   -8.0089    -34.8553     77.09        77   \n3             3        Grindavik   63.8424    -22.4338     52.18        92   \n4             4            Hukay   13.8452    120.7029     86.45        68   \n..          ...              ...       ...         ...       ...       ...   \n586         586          Kumluca   36.3703     30.2869     83.93        35   \n587         587  Manavālakurichi    8.1333     77.3000     83.23        79   \n588         588          Maralal    1.0968     36.6980     57.31        75   \n589         589         Wencheng   33.0559    113.7978     82.90        72   \n590         590         Don Luan   11.5333    106.9167     85.14        82   \n\n     Cloudiness  Wind Speed Country        Date  \n0            50        1.97      BR  1598929200  \n1            23        7.70      AU  1598929200  \n2            27       15.26      BR  1598929200  \n3            87       10.78      IS  1598929200  \n4            89        7.16      PH  1598929200  \n..          ...         ...     ...         ...  \n586           0        2.15      TR  1598929200  \n587          56       13.49      IN  1598929200  \n588          30        2.15      KE  1598929200  \n589           0        9.75      CN  1598929200  \n590          90        3.02      VN  1598929200  \n\n[591 rows x 10 columns]",
      "text/html": "<div>\n<style scoped>\n    .dataframe tbody tr th:only-of-type {\n        vertical-align: middle;\n    }\n\n    .dataframe tbody tr th {\n        vertical-align: top;\n    }\n\n    .dataframe thead th {\n        text-align: right;\n    }\n</style>\n<table border=\"1\" class=\"dataframe\">\n  <thead>\n    <tr style=\"text-align: right;\">\n      <th></th>\n      <th>Unnamed: 0</th>\n      <th>City</th>\n      <th>Latitude</th>\n      <th>Longtitude</th>\n      <th>Max Temp</th>\n      <th>Humidity</th>\n      <th>Cloudiness</th>\n      <th>Wind Speed</th>\n      <th>Country</th>\n      <th>Date</th>\n    </tr>\n  </thead>\n  <tbody>\n    <tr>\n      <th>0</th>\n      <td>0</td>\n      <td>Envira</td>\n      <td>-7.3000</td>\n      <td>-70.2167</td>\n      <td>78.26</td>\n      <td>66</td>\n      <td>50</td>\n      <td>1.97</td>\n      <td>BR</td>\n      <td>1598929200</td>\n    </tr>\n    <tr>\n      <th>1</th>\n      <td>1</td>\n      <td>Wollongong</td>\n      <td>-34.4333</td>\n      <td>150.8833</td>\n      <td>59.79</td>\n      <td>58</td>\n      <td>23</td>\n      <td>7.70</td>\n      <td>AU</td>\n      <td>1598929200</td>\n    </tr>\n    <tr>\n      <th>2</th>\n      <td>2</td>\n      <td>Olinda</td>\n      <td>-8.0089</td>\n      <td>-34.8553</td>\n      <td>77.09</td>\n      <td>77</td>\n      <td>27</td>\n      <td>15.26</td>\n      <td>BR</td>\n      <td>1598929200</td>\n    </tr>\n    <tr>\n      <th>3</th>\n      <td>3</td>\n      <td>Grindavik</td>\n      <td>63.8424</td>\n      <td>-22.4338</td>\n      <td>52.18</td>\n      <td>92</td>\n      <td>87</td>\n      <td>10.78</td>\n      <td>IS</td>\n      <td>1598929200</td>\n    </tr>\n    <tr>\n      <th>4</th>\n      <td>4</td>\n      <td>Hukay</td>\n      <td>13.8452</td>\n      <td>120.7029</td>\n      <td>86.45</td>\n      <td>68</td>\n      <td>89</td>\n      <td>7.16</td>\n      <td>PH</td>\n      <td>1598929200</td>\n    </tr>\n    <tr>\n      <th>...</th>\n      <td>...</td>\n      <td>...</td>\n      <td>...</td>\n      <td>...</td>\n      <td>...</td>\n      <td>...</td>\n      <td>...</td>\n      <td>...</td>\n      <td>...</td>\n      <td>...</td>\n    </tr>\n    <tr>\n      <th>586</th>\n      <td>586</td>\n      <td>Kumluca</td>\n      <td>36.3703</td>\n      <td>30.2869</td>\n      <td>83.93</td>\n      <td>35</td>\n      <td>0</td>\n      <td>2.15</td>\n      <td>TR</td>\n      <td>1598929200</td>\n    </tr>\n    <tr>\n      <th>587</th>\n      <td>587</td>\n      <td>Manavālakurichi</td>\n      <td>8.1333</td>\n      <td>77.3000</td>\n      <td>83.23</td>\n      <td>79</td>\n      <td>56</td>\n      <td>13.49</td>\n      <td>IN</td>\n      <td>1598929200</td>\n    </tr>\n    <tr>\n      <th>588</th>\n      <td>588</td>\n      <td>Maralal</td>\n      <td>1.0968</td>\n      <td>36.6980</td>\n      <td>57.31</td>\n      <td>75</td>\n      <td>30</td>\n      <td>2.15</td>\n      <td>KE</td>\n      <td>1598929200</td>\n    </tr>\n    <tr>\n      <th>589</th>\n      <td>589</td>\n      <td>Wencheng</td>\n      <td>33.0559</td>\n      <td>113.7978</td>\n      <td>82.90</td>\n      <td>72</td>\n      <td>0</td>\n      <td>9.75</td>\n      <td>CN</td>\n      <td>1598929200</td>\n    </tr>\n    <tr>\n      <th>590</th>\n      <td>590</td>\n      <td>Don Luan</td>\n      <td>11.5333</td>\n      <td>106.9167</td>\n      <td>85.14</td>\n      <td>82</td>\n      <td>90</td>\n      <td>3.02</td>\n      <td>VN</td>\n      <td>1598929200</td>\n    </tr>\n  </tbody>\n</table>\n<p>591 rows × 10 columns</p>\n</div>"
     },
     "metadata": {},
     "execution_count": 2
    }
   ],
   "source": [
    "file_to_load = \"Resources/weather_cities.csv\"\n",
    "weather_cities_df = pd.read_csv(file_to_load)\n",
    "weather_cities_df\n"
   ]
  },
  {
   "cell_type": "markdown",
   "metadata": {},
   "source": [
    "### Humidity Heatmap\n",
    "* Configure gmaps.\n",
    "* Use the Lat and Lng as locations and Humidity as the weight.\n",
    "* Add Heatmap layer to map."
   ]
  },
  {
   "cell_type": "code",
   "execution_count": 3,
   "metadata": {},
   "outputs": [],
   "source": [
    "# Configure gmaps\n",
    "gmaps.configure(api_key=g_key)\n",
    "\n",
    "# Store latitude and longitude in locations\n",
    "locations = weather_cities_df[[\"Latitude\", \"Longtitude\"]]\n",
    "\n",
    "# Store Humidity in humidity\n",
    "weights = weather_cities_df[\"Humidity\"]"
   ]
  },
  {
   "cell_type": "code",
   "execution_count": 4,
   "metadata": {},
   "outputs": [
    {
     "output_type": "display_data",
     "data": {
      "text/plain": "Figure(layout=FigureLayout(height='420px'))",
      "application/vnd.jupyter.widget-view+json": {
       "version_major": 2,
       "version_minor": 0,
       "model_id": "551e9cfb3dc74c13b32e93928188cfcd"
      }
     },
     "metadata": {}
    }
   ],
   "source": [
    "# Plot heat map\n",
    "fig = gmaps.figure(center=(45.0, 26.0), zoom_level=1) \n",
    "heatmap_layer = gmaps.heatmap_layer(locations, weights=weights) \n",
    "fig.add_layer(gmaps.heatmap_layer(locations, weights=weights))\n",
    "fig\n"
   ]
  },
  {
   "cell_type": "markdown",
   "metadata": {},
   "source": [
    "### Create new DataFrame fitting weather criteria\n",
    "* Narrow down the cities to fit weather conditions.\n",
    "* Drop any rows will null values."
   ]
  },
  {
   "cell_type": "code",
   "execution_count": 5,
   "metadata": {},
   "outputs": [
    {
     "output_type": "execute_result",
     "data": {
      "text/plain": "     Unnamed: 0                  City  Latitude  Longtitude  Max Temp  \\\n42           42                Rūdbār   30.1500     62.6000     73.65   \n48           48                  Jalu   29.0331     21.5482     74.80   \n93           93                Samfya  -11.3649     29.5565     64.29   \n113         113                 Khovd   48.0056     91.6419     62.94   \n125         125              Shagonar   51.5333     92.8000     61.59   \n127         127               Kurchum   48.5722     83.6542     73.67   \n138         138  Novorozhdestvenskaya   45.8619     39.9542     68.63   \n147         147                  Gali   42.6265     41.7381     69.51   \n154         154            Hervey Bay  -25.2986    152.8535     74.53   \n205         205             Kropotkin   45.4375     40.5756     67.23   \n219         219           Broken Hill  -31.9500    141.4333     63.16   \n240         240            Balkanabat   39.5108     54.3671     77.23   \n259         259             Vincennes   48.8500      2.4333     55.74   \n303         303         Oktyabr'skoye   43.0645     44.7417     62.47   \n313         313            Kiryat Gat   31.6100     34.7642     75.61   \n332         332               Kashary   49.0400     41.0056     66.42   \n341         341                Shepsi   44.0361     39.1489     75.69   \n367         367                Tūkrah   32.5341     20.5791     73.89   \n421         421                 Khani   41.9563     42.9566     73.42   \n425         425              Nokaneng  -19.6667     22.2667     59.32   \n429         429            Chingirlau   51.0950     54.0814     69.40   \n435         435               Itarema   -2.9248    -39.9167     78.42   \n486         486            Mossamedes  -15.1961     12.1522     59.61   \n494         494              Ajdabiya   30.7554     20.2263     69.58   \n511         511             Eskişehir   39.7767     30.5206     62.69   \n517         517                 Erzin   36.9559     36.2000     79.72   \n524         524                 Nador   35.1740     -2.9287     73.08   \n536         536            Kremenchuk   49.0973     33.4197     70.09   \n559         559              Ust'-Kan   50.9276     84.7610     61.25   \n573         573                  Asău   46.4333     26.4000     64.42   \n\n     Humidity  Cloudiness  Wind Speed Country        Date  \n42         34           0       17.11      AF  1598929200  \n48         43           0        2.84      LY  1598929200  \n93         43           0        8.14      ZM  1598929200  \n113        47           0        2.82      MN  1598929200  \n125        62           0        0.51      RU  1598929200  \n127        37           0        3.65      KZ  1598929200  \n138        42           0       14.29      RU  1598929200  \n147        65           0        3.44      GE  1598929200  \n154        50           0        4.54      AU  1598929200  \n205        49           0       12.19      RU  1598929200  \n219        31           0       14.32      AU  1598929200  \n240        36           0        5.10      TM  1598929200  \n259        80           0        3.02      FR  1598929200  \n303        76           0        3.15      RU  1598929200  \n313        82           0        5.73      IL  1598929200  \n332        38           0        6.89      RU  1598929200  \n341        61           0        5.17      RU  1598929200  \n367        76           0        5.08      LY  1598929200  \n421        49           0        5.79      GE  1598929200  \n425        30           0        9.69      BW  1598929200  \n429        55           0        4.09      KZ  1598929200  \n435        78           0       17.05      BR  1598929200  \n486        80           0        1.34      AO  1598929200  \n494        75           0        6.13      LY  1598929200  \n511        78           0        2.53      TR  1598929200  \n517        59           0        2.68      TR  1598929200  \n524        71           0        5.68      MA  1598929200  \n536        38           0        4.38      UA  1598929200  \n559        61           0        2.82      RU  1598929200  \n573        86           0        1.10      RO  1598929200  ",
      "text/html": "<div>\n<style scoped>\n    .dataframe tbody tr th:only-of-type {\n        vertical-align: middle;\n    }\n\n    .dataframe tbody tr th {\n        vertical-align: top;\n    }\n\n    .dataframe thead th {\n        text-align: right;\n    }\n</style>\n<table border=\"1\" class=\"dataframe\">\n  <thead>\n    <tr style=\"text-align: right;\">\n      <th></th>\n      <th>Unnamed: 0</th>\n      <th>City</th>\n      <th>Latitude</th>\n      <th>Longtitude</th>\n      <th>Max Temp</th>\n      <th>Humidity</th>\n      <th>Cloudiness</th>\n      <th>Wind Speed</th>\n      <th>Country</th>\n      <th>Date</th>\n    </tr>\n  </thead>\n  <tbody>\n    <tr>\n      <th>42</th>\n      <td>42</td>\n      <td>Rūdbār</td>\n      <td>30.1500</td>\n      <td>62.6000</td>\n      <td>73.65</td>\n      <td>34</td>\n      <td>0</td>\n      <td>17.11</td>\n      <td>AF</td>\n      <td>1598929200</td>\n    </tr>\n    <tr>\n      <th>48</th>\n      <td>48</td>\n      <td>Jalu</td>\n      <td>29.0331</td>\n      <td>21.5482</td>\n      <td>74.80</td>\n      <td>43</td>\n      <td>0</td>\n      <td>2.84</td>\n      <td>LY</td>\n      <td>1598929200</td>\n    </tr>\n    <tr>\n      <th>93</th>\n      <td>93</td>\n      <td>Samfya</td>\n      <td>-11.3649</td>\n      <td>29.5565</td>\n      <td>64.29</td>\n      <td>43</td>\n      <td>0</td>\n      <td>8.14</td>\n      <td>ZM</td>\n      <td>1598929200</td>\n    </tr>\n    <tr>\n      <th>113</th>\n      <td>113</td>\n      <td>Khovd</td>\n      <td>48.0056</td>\n      <td>91.6419</td>\n      <td>62.94</td>\n      <td>47</td>\n      <td>0</td>\n      <td>2.82</td>\n      <td>MN</td>\n      <td>1598929200</td>\n    </tr>\n    <tr>\n      <th>125</th>\n      <td>125</td>\n      <td>Shagonar</td>\n      <td>51.5333</td>\n      <td>92.8000</td>\n      <td>61.59</td>\n      <td>62</td>\n      <td>0</td>\n      <td>0.51</td>\n      <td>RU</td>\n      <td>1598929200</td>\n    </tr>\n    <tr>\n      <th>127</th>\n      <td>127</td>\n      <td>Kurchum</td>\n      <td>48.5722</td>\n      <td>83.6542</td>\n      <td>73.67</td>\n      <td>37</td>\n      <td>0</td>\n      <td>3.65</td>\n      <td>KZ</td>\n      <td>1598929200</td>\n    </tr>\n    <tr>\n      <th>138</th>\n      <td>138</td>\n      <td>Novorozhdestvenskaya</td>\n      <td>45.8619</td>\n      <td>39.9542</td>\n      <td>68.63</td>\n      <td>42</td>\n      <td>0</td>\n      <td>14.29</td>\n      <td>RU</td>\n      <td>1598929200</td>\n    </tr>\n    <tr>\n      <th>147</th>\n      <td>147</td>\n      <td>Gali</td>\n      <td>42.6265</td>\n      <td>41.7381</td>\n      <td>69.51</td>\n      <td>65</td>\n      <td>0</td>\n      <td>3.44</td>\n      <td>GE</td>\n      <td>1598929200</td>\n    </tr>\n    <tr>\n      <th>154</th>\n      <td>154</td>\n      <td>Hervey Bay</td>\n      <td>-25.2986</td>\n      <td>152.8535</td>\n      <td>74.53</td>\n      <td>50</td>\n      <td>0</td>\n      <td>4.54</td>\n      <td>AU</td>\n      <td>1598929200</td>\n    </tr>\n    <tr>\n      <th>205</th>\n      <td>205</td>\n      <td>Kropotkin</td>\n      <td>45.4375</td>\n      <td>40.5756</td>\n      <td>67.23</td>\n      <td>49</td>\n      <td>0</td>\n      <td>12.19</td>\n      <td>RU</td>\n      <td>1598929200</td>\n    </tr>\n    <tr>\n      <th>219</th>\n      <td>219</td>\n      <td>Broken Hill</td>\n      <td>-31.9500</td>\n      <td>141.4333</td>\n      <td>63.16</td>\n      <td>31</td>\n      <td>0</td>\n      <td>14.32</td>\n      <td>AU</td>\n      <td>1598929200</td>\n    </tr>\n    <tr>\n      <th>240</th>\n      <td>240</td>\n      <td>Balkanabat</td>\n      <td>39.5108</td>\n      <td>54.3671</td>\n      <td>77.23</td>\n      <td>36</td>\n      <td>0</td>\n      <td>5.10</td>\n      <td>TM</td>\n      <td>1598929200</td>\n    </tr>\n    <tr>\n      <th>259</th>\n      <td>259</td>\n      <td>Vincennes</td>\n      <td>48.8500</td>\n      <td>2.4333</td>\n      <td>55.74</td>\n      <td>80</td>\n      <td>0</td>\n      <td>3.02</td>\n      <td>FR</td>\n      <td>1598929200</td>\n    </tr>\n    <tr>\n      <th>303</th>\n      <td>303</td>\n      <td>Oktyabr'skoye</td>\n      <td>43.0645</td>\n      <td>44.7417</td>\n      <td>62.47</td>\n      <td>76</td>\n      <td>0</td>\n      <td>3.15</td>\n      <td>RU</td>\n      <td>1598929200</td>\n    </tr>\n    <tr>\n      <th>313</th>\n      <td>313</td>\n      <td>Kiryat Gat</td>\n      <td>31.6100</td>\n      <td>34.7642</td>\n      <td>75.61</td>\n      <td>82</td>\n      <td>0</td>\n      <td>5.73</td>\n      <td>IL</td>\n      <td>1598929200</td>\n    </tr>\n    <tr>\n      <th>332</th>\n      <td>332</td>\n      <td>Kashary</td>\n      <td>49.0400</td>\n      <td>41.0056</td>\n      <td>66.42</td>\n      <td>38</td>\n      <td>0</td>\n      <td>6.89</td>\n      <td>RU</td>\n      <td>1598929200</td>\n    </tr>\n    <tr>\n      <th>341</th>\n      <td>341</td>\n      <td>Shepsi</td>\n      <td>44.0361</td>\n      <td>39.1489</td>\n      <td>75.69</td>\n      <td>61</td>\n      <td>0</td>\n      <td>5.17</td>\n      <td>RU</td>\n      <td>1598929200</td>\n    </tr>\n    <tr>\n      <th>367</th>\n      <td>367</td>\n      <td>Tūkrah</td>\n      <td>32.5341</td>\n      <td>20.5791</td>\n      <td>73.89</td>\n      <td>76</td>\n      <td>0</td>\n      <td>5.08</td>\n      <td>LY</td>\n      <td>1598929200</td>\n    </tr>\n    <tr>\n      <th>421</th>\n      <td>421</td>\n      <td>Khani</td>\n      <td>41.9563</td>\n      <td>42.9566</td>\n      <td>73.42</td>\n      <td>49</td>\n      <td>0</td>\n      <td>5.79</td>\n      <td>GE</td>\n      <td>1598929200</td>\n    </tr>\n    <tr>\n      <th>425</th>\n      <td>425</td>\n      <td>Nokaneng</td>\n      <td>-19.6667</td>\n      <td>22.2667</td>\n      <td>59.32</td>\n      <td>30</td>\n      <td>0</td>\n      <td>9.69</td>\n      <td>BW</td>\n      <td>1598929200</td>\n    </tr>\n    <tr>\n      <th>429</th>\n      <td>429</td>\n      <td>Chingirlau</td>\n      <td>51.0950</td>\n      <td>54.0814</td>\n      <td>69.40</td>\n      <td>55</td>\n      <td>0</td>\n      <td>4.09</td>\n      <td>KZ</td>\n      <td>1598929200</td>\n    </tr>\n    <tr>\n      <th>435</th>\n      <td>435</td>\n      <td>Itarema</td>\n      <td>-2.9248</td>\n      <td>-39.9167</td>\n      <td>78.42</td>\n      <td>78</td>\n      <td>0</td>\n      <td>17.05</td>\n      <td>BR</td>\n      <td>1598929200</td>\n    </tr>\n    <tr>\n      <th>486</th>\n      <td>486</td>\n      <td>Mossamedes</td>\n      <td>-15.1961</td>\n      <td>12.1522</td>\n      <td>59.61</td>\n      <td>80</td>\n      <td>0</td>\n      <td>1.34</td>\n      <td>AO</td>\n      <td>1598929200</td>\n    </tr>\n    <tr>\n      <th>494</th>\n      <td>494</td>\n      <td>Ajdabiya</td>\n      <td>30.7554</td>\n      <td>20.2263</td>\n      <td>69.58</td>\n      <td>75</td>\n      <td>0</td>\n      <td>6.13</td>\n      <td>LY</td>\n      <td>1598929200</td>\n    </tr>\n    <tr>\n      <th>511</th>\n      <td>511</td>\n      <td>Eskişehir</td>\n      <td>39.7767</td>\n      <td>30.5206</td>\n      <td>62.69</td>\n      <td>78</td>\n      <td>0</td>\n      <td>2.53</td>\n      <td>TR</td>\n      <td>1598929200</td>\n    </tr>\n    <tr>\n      <th>517</th>\n      <td>517</td>\n      <td>Erzin</td>\n      <td>36.9559</td>\n      <td>36.2000</td>\n      <td>79.72</td>\n      <td>59</td>\n      <td>0</td>\n      <td>2.68</td>\n      <td>TR</td>\n      <td>1598929200</td>\n    </tr>\n    <tr>\n      <th>524</th>\n      <td>524</td>\n      <td>Nador</td>\n      <td>35.1740</td>\n      <td>-2.9287</td>\n      <td>73.08</td>\n      <td>71</td>\n      <td>0</td>\n      <td>5.68</td>\n      <td>MA</td>\n      <td>1598929200</td>\n    </tr>\n    <tr>\n      <th>536</th>\n      <td>536</td>\n      <td>Kremenchuk</td>\n      <td>49.0973</td>\n      <td>33.4197</td>\n      <td>70.09</td>\n      <td>38</td>\n      <td>0</td>\n      <td>4.38</td>\n      <td>UA</td>\n      <td>1598929200</td>\n    </tr>\n    <tr>\n      <th>559</th>\n      <td>559</td>\n      <td>Ust'-Kan</td>\n      <td>50.9276</td>\n      <td>84.7610</td>\n      <td>61.25</td>\n      <td>61</td>\n      <td>0</td>\n      <td>2.82</td>\n      <td>RU</td>\n      <td>1598929200</td>\n    </tr>\n    <tr>\n      <th>573</th>\n      <td>573</td>\n      <td>Asău</td>\n      <td>46.4333</td>\n      <td>26.4000</td>\n      <td>64.42</td>\n      <td>86</td>\n      <td>0</td>\n      <td>1.10</td>\n      <td>RO</td>\n      <td>1598929200</td>\n    </tr>\n  </tbody>\n</table>\n</div>"
     },
     "metadata": {},
     "execution_count": 5
    }
   ],
   "source": [
    "good_weather_cities_df = weather_cities_df.loc[(weather_cities_df[\"Max Temp\"] <= 80) & (weather_cities_df[\"Max Temp\"] >= 50) & \\\n",
    "                                   (weather_cities_df[\"Humidity\"] >= 30) & (weather_cities_df[\"Cloudiness\"] == 0)]\n",
    "\n",
    "# Drop Null value\n",
    "good_weather_cities_df = good_weather_cities_df.dropna()\n",
    "\n",
    "good_weather_cities_df"
   ]
  },
  {
   "cell_type": "markdown",
   "metadata": {},
   "source": [
    "### Hotel Map\n",
    "* Store into variable named `hotel_df`.\n",
    "* Add a \"Hotel Name\" column to the DataFrame.\n",
    "* Set parameters to search for hotels with 5000 meters.\n",
    "* Hit the Google Places API for each city's coordinates.\n",
    "* Store the first Hotel result into the DataFrame.\n",
    "* Plot markers on top of the heatmap."
   ]
  },
  {
   "cell_type": "code",
   "execution_count": 6,
   "metadata": {},
   "outputs": [],
   "source": [
    "# Store variable named hotel_df\n",
    "hotel_df = good_weather_cities_df\n",
    "hotel_df['Hotel Name'] = \"\"\n",
    "\n"
   ]
  },
  {
   "cell_type": "code",
   "execution_count": 7,
   "metadata": {
    "tags": []
   },
   "outputs": [
    {
     "output_type": "stream",
     "name": "stdout",
     "text": "No hotel found\n"
    },
    {
     "output_type": "execute_result",
     "data": {
      "text/plain": "     Unnamed: 0                  City  Latitude  Longtitude  Max Temp  \\\n42           42                Rūdbār   30.1500     62.6000     73.65   \n48           48                  Jalu   29.0331     21.5482     74.80   \n93           93                Samfya  -11.3649     29.5565     64.29   \n113         113                 Khovd   48.0056     91.6419     62.94   \n125         125              Shagonar   51.5333     92.8000     61.59   \n127         127               Kurchum   48.5722     83.6542     73.67   \n138         138  Novorozhdestvenskaya   45.8619     39.9542     68.63   \n147         147                  Gali   42.6265     41.7381     69.51   \n154         154            Hervey Bay  -25.2986    152.8535     74.53   \n205         205             Kropotkin   45.4375     40.5756     67.23   \n219         219           Broken Hill  -31.9500    141.4333     63.16   \n240         240            Balkanabat   39.5108     54.3671     77.23   \n259         259             Vincennes   48.8500      2.4333     55.74   \n303         303         Oktyabr'skoye   43.0645     44.7417     62.47   \n313         313            Kiryat Gat   31.6100     34.7642     75.61   \n332         332               Kashary   49.0400     41.0056     66.42   \n341         341                Shepsi   44.0361     39.1489     75.69   \n367         367                Tūkrah   32.5341     20.5791     73.89   \n421         421                 Khani   41.9563     42.9566     73.42   \n425         425              Nokaneng  -19.6667     22.2667     59.32   \n429         429            Chingirlau   51.0950     54.0814     69.40   \n435         435               Itarema   -2.9248    -39.9167     78.42   \n486         486            Mossamedes  -15.1961     12.1522     59.61   \n494         494              Ajdabiya   30.7554     20.2263     69.58   \n511         511             Eskişehir   39.7767     30.5206     62.69   \n517         517                 Erzin   36.9559     36.2000     79.72   \n524         524                 Nador   35.1740     -2.9287     73.08   \n536         536            Kremenchuk   49.0973     33.4197     70.09   \n559         559              Ust'-Kan   50.9276     84.7610     61.25   \n573         573                  Asău   46.4333     26.4000     64.42   \n\n     Humidity  Cloudiness  Wind Speed Country        Date Hotel Name  \\\n42         34           0       17.11      AF  1598929200              \n48         43           0        2.84      LY  1598929200              \n93         43           0        8.14      ZM  1598929200              \n113        47           0        2.82      MN  1598929200              \n125        62           0        0.51      RU  1598929200              \n127        37           0        3.65      KZ  1598929200              \n138        42           0       14.29      RU  1598929200              \n147        65           0        3.44      GE  1598929200              \n154        50           0        4.54      AU  1598929200              \n205        49           0       12.19      RU  1598929200              \n219        31           0       14.32      AU  1598929200              \n240        36           0        5.10      TM  1598929200              \n259        80           0        3.02      FR  1598929200              \n303        76           0        3.15      RU  1598929200              \n313        82           0        5.73      IL  1598929200              \n332        38           0        6.89      RU  1598929200              \n341        61           0        5.17      RU  1598929200              \n367        76           0        5.08      LY  1598929200              \n421        49           0        5.79      GE  1598929200              \n425        30           0        9.69      BW  1598929200              \n429        55           0        4.09      KZ  1598929200              \n435        78           0       17.05      BR  1598929200              \n486        80           0        1.34      AO  1598929200              \n494        75           0        6.13      LY  1598929200              \n511        78           0        2.53      TR  1598929200              \n517        59           0        2.68      TR  1598929200              \n524        71           0        5.68      MA  1598929200              \n536        38           0        4.38      UA  1598929200              \n559        61           0        2.82      RU  1598929200              \n573        86           0        1.10      RO  1598929200              \n\n                                            Hotel name  \n42                                              Rūdbār  \n48                                                Jalu  \n93                                              Samfya  \n113                                              Khovd  \n125  Istoriya Pamyatnik Arkhitektury Uygurskaya Kre...  \n127                                            Kurshim  \n138                               Novorozhdestvenskaya  \n147                                               Gali  \n154                                         Hervey Bay  \n205                                          Kropotkin  \n219                                        Broken Hill  \n240                                         Balkanabat  \n259                                              Paris  \n303                                        Vladikavkaz  \n313                                         Kiryat Gat  \n332                                            Kashary  \n341                                      Bolshoy Sochi  \n367                                              Tocra  \n421                                              Khani  \n425                                                NaN  \n429                                         Shyngyrlau  \n435                                            Itarema  \n486                                             Namibe  \n494                                           Ajdabiya  \n511                                          Eskişehir  \n517                                              Erzin  \n524                                              Nador  \n536                                         Kremenchuk  \n559                                           Ust'-Kan  \n573                                          Comănești  ",
      "text/html": "<div>\n<style scoped>\n    .dataframe tbody tr th:only-of-type {\n        vertical-align: middle;\n    }\n\n    .dataframe tbody tr th {\n        vertical-align: top;\n    }\n\n    .dataframe thead th {\n        text-align: right;\n    }\n</style>\n<table border=\"1\" class=\"dataframe\">\n  <thead>\n    <tr style=\"text-align: right;\">\n      <th></th>\n      <th>Unnamed: 0</th>\n      <th>City</th>\n      <th>Latitude</th>\n      <th>Longtitude</th>\n      <th>Max Temp</th>\n      <th>Humidity</th>\n      <th>Cloudiness</th>\n      <th>Wind Speed</th>\n      <th>Country</th>\n      <th>Date</th>\n      <th>Hotel Name</th>\n      <th>Hotel name</th>\n    </tr>\n  </thead>\n  <tbody>\n    <tr>\n      <th>42</th>\n      <td>42</td>\n      <td>Rūdbār</td>\n      <td>30.1500</td>\n      <td>62.6000</td>\n      <td>73.65</td>\n      <td>34</td>\n      <td>0</td>\n      <td>17.11</td>\n      <td>AF</td>\n      <td>1598929200</td>\n      <td></td>\n      <td>Rūdbār</td>\n    </tr>\n    <tr>\n      <th>48</th>\n      <td>48</td>\n      <td>Jalu</td>\n      <td>29.0331</td>\n      <td>21.5482</td>\n      <td>74.80</td>\n      <td>43</td>\n      <td>0</td>\n      <td>2.84</td>\n      <td>LY</td>\n      <td>1598929200</td>\n      <td></td>\n      <td>Jalu</td>\n    </tr>\n    <tr>\n      <th>93</th>\n      <td>93</td>\n      <td>Samfya</td>\n      <td>-11.3649</td>\n      <td>29.5565</td>\n      <td>64.29</td>\n      <td>43</td>\n      <td>0</td>\n      <td>8.14</td>\n      <td>ZM</td>\n      <td>1598929200</td>\n      <td></td>\n      <td>Samfya</td>\n    </tr>\n    <tr>\n      <th>113</th>\n      <td>113</td>\n      <td>Khovd</td>\n      <td>48.0056</td>\n      <td>91.6419</td>\n      <td>62.94</td>\n      <td>47</td>\n      <td>0</td>\n      <td>2.82</td>\n      <td>MN</td>\n      <td>1598929200</td>\n      <td></td>\n      <td>Khovd</td>\n    </tr>\n    <tr>\n      <th>125</th>\n      <td>125</td>\n      <td>Shagonar</td>\n      <td>51.5333</td>\n      <td>92.8000</td>\n      <td>61.59</td>\n      <td>62</td>\n      <td>0</td>\n      <td>0.51</td>\n      <td>RU</td>\n      <td>1598929200</td>\n      <td></td>\n      <td>Istoriya Pamyatnik Arkhitektury Uygurskaya Kre...</td>\n    </tr>\n    <tr>\n      <th>127</th>\n      <td>127</td>\n      <td>Kurchum</td>\n      <td>48.5722</td>\n      <td>83.6542</td>\n      <td>73.67</td>\n      <td>37</td>\n      <td>0</td>\n      <td>3.65</td>\n      <td>KZ</td>\n      <td>1598929200</td>\n      <td></td>\n      <td>Kurshim</td>\n    </tr>\n    <tr>\n      <th>138</th>\n      <td>138</td>\n      <td>Novorozhdestvenskaya</td>\n      <td>45.8619</td>\n      <td>39.9542</td>\n      <td>68.63</td>\n      <td>42</td>\n      <td>0</td>\n      <td>14.29</td>\n      <td>RU</td>\n      <td>1598929200</td>\n      <td></td>\n      <td>Novorozhdestvenskaya</td>\n    </tr>\n    <tr>\n      <th>147</th>\n      <td>147</td>\n      <td>Gali</td>\n      <td>42.6265</td>\n      <td>41.7381</td>\n      <td>69.51</td>\n      <td>65</td>\n      <td>0</td>\n      <td>3.44</td>\n      <td>GE</td>\n      <td>1598929200</td>\n      <td></td>\n      <td>Gali</td>\n    </tr>\n    <tr>\n      <th>154</th>\n      <td>154</td>\n      <td>Hervey Bay</td>\n      <td>-25.2986</td>\n      <td>152.8535</td>\n      <td>74.53</td>\n      <td>50</td>\n      <td>0</td>\n      <td>4.54</td>\n      <td>AU</td>\n      <td>1598929200</td>\n      <td></td>\n      <td>Hervey Bay</td>\n    </tr>\n    <tr>\n      <th>205</th>\n      <td>205</td>\n      <td>Kropotkin</td>\n      <td>45.4375</td>\n      <td>40.5756</td>\n      <td>67.23</td>\n      <td>49</td>\n      <td>0</td>\n      <td>12.19</td>\n      <td>RU</td>\n      <td>1598929200</td>\n      <td></td>\n      <td>Kropotkin</td>\n    </tr>\n    <tr>\n      <th>219</th>\n      <td>219</td>\n      <td>Broken Hill</td>\n      <td>-31.9500</td>\n      <td>141.4333</td>\n      <td>63.16</td>\n      <td>31</td>\n      <td>0</td>\n      <td>14.32</td>\n      <td>AU</td>\n      <td>1598929200</td>\n      <td></td>\n      <td>Broken Hill</td>\n    </tr>\n    <tr>\n      <th>240</th>\n      <td>240</td>\n      <td>Balkanabat</td>\n      <td>39.5108</td>\n      <td>54.3671</td>\n      <td>77.23</td>\n      <td>36</td>\n      <td>0</td>\n      <td>5.10</td>\n      <td>TM</td>\n      <td>1598929200</td>\n      <td></td>\n      <td>Balkanabat</td>\n    </tr>\n    <tr>\n      <th>259</th>\n      <td>259</td>\n      <td>Vincennes</td>\n      <td>48.8500</td>\n      <td>2.4333</td>\n      <td>55.74</td>\n      <td>80</td>\n      <td>0</td>\n      <td>3.02</td>\n      <td>FR</td>\n      <td>1598929200</td>\n      <td></td>\n      <td>Paris</td>\n    </tr>\n    <tr>\n      <th>303</th>\n      <td>303</td>\n      <td>Oktyabr'skoye</td>\n      <td>43.0645</td>\n      <td>44.7417</td>\n      <td>62.47</td>\n      <td>76</td>\n      <td>0</td>\n      <td>3.15</td>\n      <td>RU</td>\n      <td>1598929200</td>\n      <td></td>\n      <td>Vladikavkaz</td>\n    </tr>\n    <tr>\n      <th>313</th>\n      <td>313</td>\n      <td>Kiryat Gat</td>\n      <td>31.6100</td>\n      <td>34.7642</td>\n      <td>75.61</td>\n      <td>82</td>\n      <td>0</td>\n      <td>5.73</td>\n      <td>IL</td>\n      <td>1598929200</td>\n      <td></td>\n      <td>Kiryat Gat</td>\n    </tr>\n    <tr>\n      <th>332</th>\n      <td>332</td>\n      <td>Kashary</td>\n      <td>49.0400</td>\n      <td>41.0056</td>\n      <td>66.42</td>\n      <td>38</td>\n      <td>0</td>\n      <td>6.89</td>\n      <td>RU</td>\n      <td>1598929200</td>\n      <td></td>\n      <td>Kashary</td>\n    </tr>\n    <tr>\n      <th>341</th>\n      <td>341</td>\n      <td>Shepsi</td>\n      <td>44.0361</td>\n      <td>39.1489</td>\n      <td>75.69</td>\n      <td>61</td>\n      <td>0</td>\n      <td>5.17</td>\n      <td>RU</td>\n      <td>1598929200</td>\n      <td></td>\n      <td>Bolshoy Sochi</td>\n    </tr>\n    <tr>\n      <th>367</th>\n      <td>367</td>\n      <td>Tūkrah</td>\n      <td>32.5341</td>\n      <td>20.5791</td>\n      <td>73.89</td>\n      <td>76</td>\n      <td>0</td>\n      <td>5.08</td>\n      <td>LY</td>\n      <td>1598929200</td>\n      <td></td>\n      <td>Tocra</td>\n    </tr>\n    <tr>\n      <th>421</th>\n      <td>421</td>\n      <td>Khani</td>\n      <td>41.9563</td>\n      <td>42.9566</td>\n      <td>73.42</td>\n      <td>49</td>\n      <td>0</td>\n      <td>5.79</td>\n      <td>GE</td>\n      <td>1598929200</td>\n      <td></td>\n      <td>Khani</td>\n    </tr>\n    <tr>\n      <th>425</th>\n      <td>425</td>\n      <td>Nokaneng</td>\n      <td>-19.6667</td>\n      <td>22.2667</td>\n      <td>59.32</td>\n      <td>30</td>\n      <td>0</td>\n      <td>9.69</td>\n      <td>BW</td>\n      <td>1598929200</td>\n      <td></td>\n      <td>NaN</td>\n    </tr>\n    <tr>\n      <th>429</th>\n      <td>429</td>\n      <td>Chingirlau</td>\n      <td>51.0950</td>\n      <td>54.0814</td>\n      <td>69.40</td>\n      <td>55</td>\n      <td>0</td>\n      <td>4.09</td>\n      <td>KZ</td>\n      <td>1598929200</td>\n      <td></td>\n      <td>Shyngyrlau</td>\n    </tr>\n    <tr>\n      <th>435</th>\n      <td>435</td>\n      <td>Itarema</td>\n      <td>-2.9248</td>\n      <td>-39.9167</td>\n      <td>78.42</td>\n      <td>78</td>\n      <td>0</td>\n      <td>17.05</td>\n      <td>BR</td>\n      <td>1598929200</td>\n      <td></td>\n      <td>Itarema</td>\n    </tr>\n    <tr>\n      <th>486</th>\n      <td>486</td>\n      <td>Mossamedes</td>\n      <td>-15.1961</td>\n      <td>12.1522</td>\n      <td>59.61</td>\n      <td>80</td>\n      <td>0</td>\n      <td>1.34</td>\n      <td>AO</td>\n      <td>1598929200</td>\n      <td></td>\n      <td>Namibe</td>\n    </tr>\n    <tr>\n      <th>494</th>\n      <td>494</td>\n      <td>Ajdabiya</td>\n      <td>30.7554</td>\n      <td>20.2263</td>\n      <td>69.58</td>\n      <td>75</td>\n      <td>0</td>\n      <td>6.13</td>\n      <td>LY</td>\n      <td>1598929200</td>\n      <td></td>\n      <td>Ajdabiya</td>\n    </tr>\n    <tr>\n      <th>511</th>\n      <td>511</td>\n      <td>Eskişehir</td>\n      <td>39.7767</td>\n      <td>30.5206</td>\n      <td>62.69</td>\n      <td>78</td>\n      <td>0</td>\n      <td>2.53</td>\n      <td>TR</td>\n      <td>1598929200</td>\n      <td></td>\n      <td>Eskişehir</td>\n    </tr>\n    <tr>\n      <th>517</th>\n      <td>517</td>\n      <td>Erzin</td>\n      <td>36.9559</td>\n      <td>36.2000</td>\n      <td>79.72</td>\n      <td>59</td>\n      <td>0</td>\n      <td>2.68</td>\n      <td>TR</td>\n      <td>1598929200</td>\n      <td></td>\n      <td>Erzin</td>\n    </tr>\n    <tr>\n      <th>524</th>\n      <td>524</td>\n      <td>Nador</td>\n      <td>35.1740</td>\n      <td>-2.9287</td>\n      <td>73.08</td>\n      <td>71</td>\n      <td>0</td>\n      <td>5.68</td>\n      <td>MA</td>\n      <td>1598929200</td>\n      <td></td>\n      <td>Nador</td>\n    </tr>\n    <tr>\n      <th>536</th>\n      <td>536</td>\n      <td>Kremenchuk</td>\n      <td>49.0973</td>\n      <td>33.4197</td>\n      <td>70.09</td>\n      <td>38</td>\n      <td>0</td>\n      <td>4.38</td>\n      <td>UA</td>\n      <td>1598929200</td>\n      <td></td>\n      <td>Kremenchuk</td>\n    </tr>\n    <tr>\n      <th>559</th>\n      <td>559</td>\n      <td>Ust'-Kan</td>\n      <td>50.9276</td>\n      <td>84.7610</td>\n      <td>61.25</td>\n      <td>61</td>\n      <td>0</td>\n      <td>2.82</td>\n      <td>RU</td>\n      <td>1598929200</td>\n      <td></td>\n      <td>Ust'-Kan</td>\n    </tr>\n    <tr>\n      <th>573</th>\n      <td>573</td>\n      <td>Asău</td>\n      <td>46.4333</td>\n      <td>26.4000</td>\n      <td>64.42</td>\n      <td>86</td>\n      <td>0</td>\n      <td>1.10</td>\n      <td>RO</td>\n      <td>1598929200</td>\n      <td></td>\n      <td>Comănești</td>\n    </tr>\n  </tbody>\n</table>\n</div>"
     },
     "metadata": {},
     "execution_count": 7
    }
   ],
   "source": [
    "# Set parameters to search for hotels with 5000 meters\n",
    "target_type = \"hotel\"\n",
    "radius = 5000\n",
    "params = {'radius': 5000, 'types': target_type, 'key': g_key\n",
    "}\n",
    "\n",
    "# Build search nearby url\n",
    "url = 'https://maps.googleapis.com/maps/api/place/nearbysearch/json'\n",
    "\n",
    "# Use itterrows to iterate through pandas dataframe\n",
    "for index, row in hotel_df.iterrows():\n",
    "    # get cities and state from df\n",
    "    lat = row['Latitude']\n",
    "    lng = row['Longtitude']\n",
    "\n",
    "    # Add keyword to params dict\n",
    "    params['location'] = f\"{lat},{lng}\"\n",
    "\n",
    "    # make request\n",
    "    hotel_response = requests.get(url, params=params).json()\n",
    "    # print hotel_response\n",
    "   # print(json.dumps(hotel_response, indent=4, sort_keys=True))\n",
    "\n",
    "    try:\n",
    "       hotel_df.loc[index,'Hotel name'] = hotel_response['results'][0]['name']\n",
    "    \n",
    "    except:\n",
    "        print('No hotel found')\n",
    "\n",
    "hotel_df\n"
   ]
  },
  {
   "cell_type": "code",
   "execution_count": 8,
   "metadata": {},
   "outputs": [],
   "source": [
    "# NOTE: Do not change any of the code in this cell\n",
    "\n",
    "# Using the template add the hotel marks to the heatmap\n",
    "info_box_template = \"\"\"\n",
    "<dl>\n",
    "<dt>Name</dt><dd>{Hotel Name}</dd>\n",
    "<dt>City</dt><dd>{City}</dd>\n",
    "<dt>Country</dt><dd>{Country}</dd>\n",
    "</dl>\n",
    "\"\"\"\n",
    "# Store the DataFrame Row\n",
    "# NOTE: be sure to update with your DataFrame name\n",
    "hotel_info = [info_box_template.format(**row) for index, row in hotel_df.iterrows()]\n",
    "locations = hotel_df[[\"Latitude\", \"Longtitude\"]]"
   ]
  },
  {
   "cell_type": "code",
   "execution_count": 9,
   "metadata": {},
   "outputs": [
    {
     "output_type": "display_data",
     "data": {
      "text/plain": "Figure(layout=FigureLayout(height='420px'))",
      "application/vnd.jupyter.widget-view+json": {
       "version_major": 2,
       "version_minor": 0,
       "model_id": "551e9cfb3dc74c13b32e93928188cfcd"
      }
     },
     "metadata": {}
    }
   ],
   "source": [
    "# Add marker layer ontop of heat map\n",
    "hotel_marker = gmaps.marker_layer(locations, hover_text='', label='', info_box_content=hotel_info, display_info_box=None)\n",
    "\n",
    "# Display figure\n",
    "fig.add_layer(hotel_marker)\n",
    "fig"
   ]
  },
  {
   "cell_type": "code",
   "execution_count": null,
   "metadata": {},
   "outputs": [],
   "source": []
  }
 ],
 "metadata": {
  "kernelspec": {
   "display_name": "Python 3.6.10 64-bit ('PythonData': conda)",
   "language": "python",
   "name": "python_defaultSpec_1599604855751"
  },
  "language_info": {
   "codemirror_mode": {
    "name": "ipython",
    "version": 3
   },
   "file_extension": ".py",
   "mimetype": "text/x-python",
   "name": "python",
   "nbconvert_exporter": "python",
   "pygments_lexer": "ipython3",
   "version": "3.6.10-final"
  },
  "latex_envs": {
   "LaTeX_envs_menu_present": true,
   "autoclose": false,
   "autocomplete": true,
   "bibliofile": "biblio.bib",
   "cite_by": "apalike",
   "current_citInitial": 1,
   "eqLabelWithNumbers": true,
   "eqNumInitial": 1,
   "hotkeys": {
    "equation": "Ctrl-E",
    "itemize": "Ctrl-I"
   },
   "labels_anchors": false,
   "latex_user_defs": false,
   "report_style_numbering": false,
   "user_envs_cfg": false
  }
 },
 "nbformat": 4,
 "nbformat_minor": 4
}